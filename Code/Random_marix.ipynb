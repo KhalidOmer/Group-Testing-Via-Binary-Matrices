{
 "cells": [
  {
   "cell_type": "code",
   "execution_count": 1,
   "metadata": {
    "collapsed": false
   },
   "outputs": [],
   "source": [
    "import numpy as np\n",
    "import matplotlib.pyplot as plt"
   ]
  },
  {
   "cell_type": "code",
   "execution_count": 2,
   "metadata": {
    "collapsed": false
   },
   "outputs": [],
   "source": [
    "def outcome_vector(m,n,d):\n",
    "    a = np.zeros(n)#Here we generate zeros\n",
    "    a[:d] = 1 #turn some of zeros into ones, the portion is specified by d  \n",
    "    np.random.shuffle(a) # the shuffle function places these one randomly\n",
    "    x = 1*np.array(a, dtype = bool)\n",
    "    #print x\n",
    "    a = []\n",
    "    A = []\n",
    "    for i in range(m): #we use that same techniques above to generate the colmuns of A\n",
    "        k = np.zeros(n)\n",
    "        k[:d] = 1\n",
    "        np.random.shuffle(k)\n",
    "        a.append(k)\n",
    "    #print(a)\n",
    "    for i in range(len(a)):\n",
    "        b  = a[i]\n",
    "        A.append(b)\n",
    "    #print (A) \n",
    "    u = 1*np.array(A, dtype = bool) #u here to assure that A is a binary matrix\n",
    "    #print(u)\n",
    "    y = 1*np.dot(u,x) #the one infront turns the results into 0,1 vector instead of true-false\n",
    "    #print(y)\n",
    "    #y = []\n",
    "    #for i in range(len(p)):\n",
    "    #    y.append(p[i][0])\n",
    "    #y = np.array(y)\n",
    "    return y"
   ]
  },
  {
   "cell_type": "code",
   "execution_count": 179,
   "metadata": {
    "collapsed": false
   },
   "outputs": [],
   "source": [
    "outcome_vector(4,7,2);"
   ]
  },
  {
   "cell_type": "code",
   "execution_count": 3,
   "metadata": {
    "collapsed": false
   },
   "outputs": [],
   "source": [
    "import numpy as np\n",
    "def outcome_vector1(m,n,d):\n",
    "    x = np.zeros(n)#Here we generate zeros\n",
    "    x[:d] = 1 #turn some of zeros into ones, the portion is specified by d  \n",
    "    np.random.shuffle(x) # the shuffle function places these one randomly\n",
    "    #x = np.array(a, dtype = bool) you do not need this\n",
    "    A = np.mod(np.random.permutation(m*n).reshape(m,n),2) # random bianry matrix  \n",
    "    u = np.dot(A,x)# the product of A and x\n",
    "    y = [1 if i > 0  else i for i in u]\n",
    "    return A, x, y # you should return all the information"
   ]
  },
  {
   "cell_type": "code",
   "execution_count": 13,
   "metadata": {
    "collapsed": false
   },
   "outputs": [
    {
     "data": {
      "text/plain": [
       "(array([[0, 1, 1, 1, 1, 0, 0],\n",
       "        [1, 1, 0, 0, 1, 1, 0],\n",
       "        [1, 0, 0, 1, 0, 0, 0],\n",
       "        [0, 0, 1, 1, 1, 1, 0]]),\n",
       " array([ 0.,  1.,  1.,  0.,  0.,  0.,  0.]),\n",
       " [1, 1, 0.0, 1])"
      ]
     },
     "execution_count": 13,
     "metadata": {},
     "output_type": "execute_result"
    }
   ],
   "source": [
    "outcome_vector1(4,7,2)"
   ]
  },
  {
   "cell_type": "markdown",
   "metadata": {
    "collapsed": true
   },
   "source": [
    "**The basic (iterative) Threshold algorithms**"
   ]
  },
  {
   "cell_type": "code",
   "execution_count": 4,
   "metadata": {
    "collapsed": false
   },
   "outputs": [],
   "source": [
    "def recovery(m,n,d,k):\n",
    "    c = outcome_vector1(m,n,d)\n",
    "    A = c[0]\n",
    "    y = c[2]\n",
    "    x = c[1]\n",
    "    x_r = np.zeros(n)\n",
    "    for i in range(k):\n",
    "        H = x_r + np.dot(np.transpose(A),y-np.dot(A,x_r))\n",
    "        x_r = H\n",
    "        print(x_r)\n",
    "    return A, y, x, x_r"
   ]
  },
  {
   "cell_type": "code",
   "execution_count": null,
   "metadata": {
    "collapsed": false
   },
   "outputs": [],
   "source": []
  },
  {
   "cell_type": "code",
   "execution_count": 166,
   "metadata": {
    "collapsed": false
   },
   "outputs": [],
   "source": []
  },
  {
   "cell_type": "code",
   "execution_count": null,
   "metadata": {
    "collapsed": false
   },
   "outputs": [],
   "source": []
  },
  {
   "cell_type": "code",
   "execution_count": 5,
   "metadata": {
    "collapsed": true
   },
   "outputs": [],
   "source": [
    "def outcome_vector(m,n,d):\n",
    "    a = np.zeros(n)#Here we generate zeros\n",
    "    a[:d] = 1 #turn some of zeros into ones, the portion is specified by d  \n",
    "    np.random.shuffle(a) # the shuffle function places these one randomly\n",
    "    x = 1*np.array(a, dtype = bool)\n",
    "    #a = []\n",
    "    A = np.mod(np.random.permutation(m*n).reshape(m,n),2)\n",
    "    #for i in range(m): #we use that same techniques above to generate the colmuns of A\n",
    "    #    k = np.zeros(n)\n",
    "    #    k[:d] = 1\n",
    "    #    np.random.shuffle(k)\n",
    "    #    a.append(k)\n",
    "    #for i in range(len(a)):\n",
    "    #    b  = a[i]\n",
    "    #    A.append(b)\n",
    "    #u = 1*np.array(A, dtype = bool) #u here to assure that A is a binary matrix\n",
    "    u = np.dot(A,x) #the one infront turns the results into 0,1 vector instead of true-false\n",
    "    y = [1 if i > 0  else i for i in u]\n",
    "    return [A,x,y]"
   ]
  },
  {
   "cell_type": "code",
   "execution_count": 223,
   "metadata": {
    "collapsed": false
   },
   "outputs": [
    {
     "data": {
      "text/plain": [
       "[array([[0, 0, 1, 0, 1, 0, 0],\n",
       "        [1, 0, 1, 1, 0, 0, 1],\n",
       "        [0, 1, 1, 0, 1, 0, 0],\n",
       "        [1, 1, 1, 1, 1, 0, 0]]), array([0, 1, 0, 0, 1, 0, 0]), [1, 0, 1, 1]]"
      ]
     },
     "execution_count": 223,
     "metadata": {},
     "output_type": "execute_result"
    }
   ],
   "source": [
    "outcome_vector(4,7,2)"
   ]
  },
  {
   "cell_type": "code",
   "execution_count": 6,
   "metadata": {
    "collapsed": false
   },
   "outputs": [],
   "source": [
    "def recovery1(m,n,d,k):\n",
    "    c = outcome_vector(m,n,d)\n",
    "    A = c[0]\n",
    "    y = np.array(c[2])\n",
    "    x = np.array(c[1])\n",
    "    #print(type(y))\n",
    "    x_r = np.zeros(n)\n",
    "    #print(type(x_r))\n",
    "    #l = np.dot(A,x_r)\n",
    "    #v = np.array([1 if i > 0 else 0 for i in l]) \n",
    "    #print(type (v))\n",
    "    #z = y-v\n",
    "    #print(type(z))\n",
    "    #print(\"z = \" + str(z))\n",
    "    for i in range(k):\n",
    "        l = np.dot(A,x_r)\n",
    "        v = np.array([1 if i > 0 else 0 for i in l])\n",
    "        z = y-v\n",
    "        t = [1 if i>0 else 0 for i in z]\n",
    "        b = np.dot(np.transpose(A),t)\n",
    "        g = np.array([1 if i >0 else 0 for i in b])\n",
    "        H = x_r + g\n",
    "        x_r = H\n",
    "    count = 0 \n",
    "    for i in range(len(x)): \n",
    "        if x[i] != x_r[i]:\n",
    "            count = count + 1\n",
    "    return count"
   ]
  },
  {
   "cell_type": "code",
   "execution_count": 257,
   "metadata": {
    "collapsed": false
   },
   "outputs": [
    {
     "data": {
      "text/plain": [
       "5"
      ]
     },
     "execution_count": 257,
     "metadata": {},
     "output_type": "execute_result"
    }
   ],
   "source": [
    "recovery1(4,7,2,40)"
   ]
  },
  {
   "cell_type": "code",
   "execution_count": null,
   "metadata": {
    "collapsed": true
   },
   "outputs": [],
   "source": [
    "def histo(m,n,d,j):\n",
    "    for i in range j:\n",
    "        "
   ]
  },
  {
   "cell_type": "code",
   "execution_count": 258,
   "metadata": {
    "collapsed": false
   },
   "outputs": [
    {
     "ename": "NameError",
     "evalue": "name 'j' is not defined",
     "output_type": "error",
     "traceback": [
      "\u001b[0;31m---------------------------------------------------------------------------\u001b[0m",
      "\u001b[0;31mNameError\u001b[0m                                 Traceback (most recent call last)",
      "\u001b[0;32m<ipython-input-258-c3f1c654a0f4>\u001b[0m in \u001b[0;36m<module>\u001b[0;34m()\u001b[0m\n\u001b[0;32m----> 1\u001b[0;31m \u001b[0mt\u001b[0m \u001b[0;34m=\u001b[0m \u001b[0mnp\u001b[0m\u001b[0;34m.\u001b[0m\u001b[0marange\u001b[0m\u001b[0;34m(\u001b[0m\u001b[0;36m0.\u001b[0m\u001b[0;34m,\u001b[0m \u001b[0mj\u001b[0m\u001b[0;34m,\u001b[0m \u001b[0;36m0.2\u001b[0m\u001b[0;34m)\u001b[0m\u001b[0;34m\u001b[0m\u001b[0m\n\u001b[0m",
      "\u001b[0;31mNameError\u001b[0m: name 'j' is not defined"
     ]
    }
   ],
   "source": [
    "t = np.arange(0., j, 0.2)"
   ]
  },
  {
   "cell_type": "code",
   "execution_count": 9,
   "metadata": {
    "collapsed": true
   },
   "outputs": [],
   "source": [
    "def recovery1(m,n,d,k):\n",
    "    c = outcome_vector(m,n,d)\n",
    "    A = c[0]\n",
    "    y = np.array(c[2])\n",
    "    x = np.array(c[1])\n",
    "    x_r = np.zeros(n)\n",
    "    for i in range(k):\n",
    "        l = np.dot(A,x_r)\n",
    "        v = np.array([1 if i > 0 else 0 for i in l])\n",
    "        z = y-v\n",
    "        t = [1 if i>0 else 0 for i in z]\n",
    "        b = np.dot(np.transpose(A),t)\n",
    "        g = np.array([1 if i >0 else 0 for i in b])\n",
    "        H = x_r + g\n",
    "        x_r = H\n",
    "    count = 0 \n",
    "    for i in range(len(x)): \n",
    "        if x[i] != x_r[i]:\n",
    "            count = count + 1\n",
    "    return count"
   ]
  },
  {
   "cell_type": "code",
   "execution_count": 8,
   "metadata": {
    "collapsed": true
   },
   "outputs": [],
   "source": [
    "def recovery(m,n,d,k):\n",
    "    c = outcome_vector(m,n,d) \n",
    "    \"\"\"\n",
    "    to access data from the function outcome_vector\n",
    "    the output is retruned in a form of a list\n",
    "    \"\"\"\n",
    "    A = c[0]\n",
    "    y = c[2]\n",
    "    x = c[1]\n",
    "    x_r = np.zeros(n)\n",
    "    for i in range(k):# the fixed point iterative loop\n",
    "        H = x_r + np.dot(np.transpose(A),y-np.dot(A,x_r))\n",
    "        x_r = H\n",
    "        print(x_r)\n",
    "    return A, y, x, x_r"
   ]
  },
  {
   "cell_type": "code",
   "execution_count": null,
   "metadata": {
    "collapsed": true
   },
   "outputs": [],
   "source": []
  },
  {
   "cell_type": "code",
   "execution_count": 13,
   "metadata": {
    "collapsed": true
   },
   "outputs": [],
   "source": [
    "def recovery1(m,n,d,k):\n",
    "    \"\"\"\n",
    "    to access data from the function outcome_vector\n",
    "    the output is retruned in a form of a list.\n",
    "    k is the number of iteration which we will stop.\n",
    "    here x_0 is taken to be 0 vector\n",
    "    \"\"\"\n",
    "    c = outcome_vector(m,n,d)\n",
    "    A = c[0]\n",
    "    y = np.array(c[2])\n",
    "    x = np.array(c[1])\n",
    "    x_r = np.zeros(n)\n",
    "    for i in range(k):\n",
    "        l = np.dot(A,x_r)\n",
    "        v = np.array([1 if i > 0 else 0 for i in l])\n",
    "        z = y-v\n",
    "        b = np.dot(np.transpose(A),z)\n",
    "        H = x_r + b\n",
    "        x_r = H\n",
    "    count = 0\n",
    "    x_re = np.array([1 if i >0 else 0 for i in x_r])\n",
    "    for i in range(len(x)): \n",
    "        if x[i] != x_re[i]:\n",
    "            count = count + 1\n",
    "    return count"
   ]
  },
  {
   "cell_type": "code",
   "execution_count": 31,
   "metadata": {
    "collapsed": true
   },
   "outputs": [],
   "source": [
    "def plot(m,n,d,j):\n",
    "    l = []\n",
    "    for i in range(j):\n",
    "          l.append(recovery1(m,n,d,i))\n",
    "    return np.array(l)"
   ]
  },
  {
   "cell_type": "code",
   "execution_count": 17,
   "metadata": {
    "collapsed": false
   },
   "outputs": [
    {
     "data": {
      "image/png": "[encoded data removed]",
      "text/plain": [
       "<matplotlib.figure.Figure at 0x7fb6fd16ca90>"
      ]
     },
     "metadata": {},
     "output_type": "display_data"
    }
   ],
   "source": [
    "\"\"\"Here this a histogram of 3000 iterations when m,n,d are fixed\"\"\"\n",
    "n, bins, patches = plt.hist(x=plot(4,7,2,10000), bins='auto', color='#0504aa',\n",
    "                            alpha=0.7, rwidth=0.85)\n",
    "plt.grid(axis='y', alpha=0.75)\n",
    "plt.xlabel('value of error')\n",
    "plt.ylabel('Frequency')\n",
    "plt.title('The frequency of each error')\n",
    "plt.text(23, 45, r'$\\mu=15, b=3$')\n",
    "maxfreq = n.max()\n",
    "# Set a clean upper y-axis limit.\n",
    "plt.ylim(ymax=np.ceil(maxfreq / 10) * 10 if maxfreq % 10 else maxfreq + 10)\n",
    "plt.show()"
   ]
  },
  {
   "cell_type": "markdown",
   "metadata": {},
   "source": [
    "**The modified Binary Iterative algorithm**"
   ]
  },
  {
   "cell_type": "markdown",
   "metadata": {},
   "source": [
    "This algorithm is a modification of the basic iterative hard threshold algorithm, where here the gradiant step size is added to the basic algorithm:\n",
    "$x^{n+1} = H_s(x^n + \\delta * A^{T} * (y - sign(A*x^{n}))$, where $\\delta$ is constant for gradient step-size and H is the thresholding operator sets all but the greatest $k$ absolute value entries of $x$ to $0$. \n",
    "\n",
    "First we start by calculating the step size $\\delta$ \n",
    "\n",
    "\n",
    "$\\delta = \\frac{g^{T}_{n} g^{}_{n}}{g^{T}_{n} \\phi^{T}_{n}\\phi^{}_{n}g^{}_{n}}$; \n",
    "\n",
    "where $g = \\phi^{T} * (y - \\phi x^{n})$"
   ]
  },
  {
   "cell_type": "code",
   "execution_count": 36,
   "metadata": {
    "collapsed": true
   },
   "outputs": [],
   "source": [
    "def recovery2(m,n,d,k):\n",
    "    \"\"\"\n",
    "    to access data from the function outcome_vector\n",
    "    the output is retruned in a form of a list.\n",
    "    k is the number of iteration which we will stop.\n",
    "    here x_0 is taken to be 0 vector\n",
    "    \"\"\"\n",
    "    c = outcome_vector(m,n,d)\n",
    "    A = c[0]\n",
    "    y = np.array(c[2])\n",
    "    x = np.array(c[1])\n",
    "    x_r = np.zeros(n)\n",
    "    for i in range(k):\n",
    "        l = np.dot(A,x_r)\n",
    "        g = np.dot(np.transpose(A),(y - np.dot(A, x_r)))\n",
    "        q = np.dot(np.transpose(g),g)/(np.dot(np.dot(np.transpose(g),np.transpose(A)),np.dot(A,g)))\n",
    "        v = np.array([1 if i > 0 else 0 for i in l])\n",
    "        z = y-v\n",
    "        b = np.dot(np.transpose(A),z)\n",
    "        H = x_r + q * b\n",
    "        x_r = H\n",
    "    count = 0\n",
    "    x_re = np.array([1 if i > 0 else 0 for i in x_r])\n",
    "    for i in range(len(x)): \n",
    "        if x[i] != x_re[i]:\n",
    "            count = count + 1\n",
    "    return count"
   ]
  },
  {
   "cell_type": "code",
   "execution_count": 37,
   "metadata": {
    "collapsed": false
   },
   "outputs": [
    {
     "data": {
      "text/plain": [
       "3"
      ]
     },
     "execution_count": 37,
     "metadata": {},
     "output_type": "execute_result"
    }
   ],
   "source": [
    "recovery2(4,7,2,10)"
   ]
  },
  {
   "cell_type": "code",
   "execution_count": 38,
   "metadata": {
    "collapsed": true
   },
   "outputs": [],
   "source": [
    "def plot1(m,n,d,j):\n",
    "    l = []\n",
    "    for i in range(j):\n",
    "          l.append(recovery2(m,n,d,i))\n",
    "    return np.array(l)"
   ]
  },
  {
   "cell_type": "code",
   "execution_count": 41,
   "metadata": {
    "collapsed": false
   },
   "outputs": [
    {
     "name": "stderr",
     "output_type": "stream",
     "text": [
      "/usr/lib/python3/dist-packages/ipykernel/__main__.py:16: RuntimeWarning: invalid value encountered in double_scalars\n"
     ]
    },
    {
     "ename": "KeyboardInterrupt",
     "evalue": "",
     "output_type": "error",
     "traceback": [
      "\u001b[0;31m---------------------------------------------------------------------------\u001b[0m",
      "\u001b[0;31mKeyboardInterrupt\u001b[0m                         Traceback (most recent call last)",
      "\u001b[0;32m<ipython-input-41-8c152582b66e>\u001b[0m in \u001b[0;36m<module>\u001b[0;34m()\u001b[0m\n\u001b[1;32m      1\u001b[0m \u001b[0;34m\"\"\"Here this a histogram of 3000 iterations when m,n,d are fixed\"\"\"\u001b[0m\u001b[0;34m\u001b[0m\u001b[0m\n\u001b[0;32m----> 2\u001b[0;31m \u001b[0mn\u001b[0m\u001b[0;34m,\u001b[0m \u001b[0mbins\u001b[0m\u001b[0;34m,\u001b[0m \u001b[0mpatches\u001b[0m \u001b[0;34m=\u001b[0m \u001b[0mplt\u001b[0m\u001b[0;34m.\u001b[0m\u001b[0mhist\u001b[0m\u001b[0;34m(\u001b[0m\u001b[0mx\u001b[0m\u001b[0;34m=\u001b[0m\u001b[0mplot1\u001b[0m\u001b[0;34m(\u001b[0m\u001b[0;36m4\u001b[0m\u001b[0;34m,\u001b[0m\u001b[0;36m7\u001b[0m\u001b[0;34m,\u001b[0m\u001b[0;36m2\u001b[0m\u001b[0;34m,\u001b[0m\u001b[0;36m10000\u001b[0m\u001b[0;34m)\u001b[0m\u001b[0;34m,\u001b[0m \u001b[0mbins\u001b[0m\u001b[0;34m=\u001b[0m\u001b[0;34m'auto'\u001b[0m\u001b[0;34m,\u001b[0m \u001b[0mcolor\u001b[0m\u001b[0;34m=\u001b[0m\u001b[0;34m'#0504aa'\u001b[0m\u001b[0;34m,\u001b[0m \u001b[0malpha\u001b[0m\u001b[0;34m=\u001b[0m\u001b[0;36m0.7\u001b[0m\u001b[0;34m,\u001b[0m \u001b[0mrwidth\u001b[0m\u001b[0;34m=\u001b[0m\u001b[0;36m0.85\u001b[0m\u001b[0;34m)\u001b[0m\u001b[0;34m\u001b[0m\u001b[0m\n\u001b[0m\u001b[1;32m      3\u001b[0m \u001b[0mplt\u001b[0m\u001b[0;34m.\u001b[0m\u001b[0mgrid\u001b[0m\u001b[0;34m(\u001b[0m\u001b[0maxis\u001b[0m\u001b[0;34m=\u001b[0m\u001b[0;34m'y'\u001b[0m\u001b[0;34m,\u001b[0m \u001b[0malpha\u001b[0m\u001b[0;34m=\u001b[0m\u001b[0;36m0.75\u001b[0m\u001b[0;34m)\u001b[0m\u001b[0;34m\u001b[0m\u001b[0m\n\u001b[1;32m      4\u001b[0m \u001b[0mplt\u001b[0m\u001b[0;34m.\u001b[0m\u001b[0mxlabel\u001b[0m\u001b[0;34m(\u001b[0m\u001b[0;34m'value of error'\u001b[0m\u001b[0;34m)\u001b[0m\u001b[0;34m\u001b[0m\u001b[0m\n\u001b[1;32m      5\u001b[0m \u001b[0mplt\u001b[0m\u001b[0;34m.\u001b[0m\u001b[0mylabel\u001b[0m\u001b[0;34m(\u001b[0m\u001b[0;34m'Frequency'\u001b[0m\u001b[0;34m)\u001b[0m\u001b[0;34m\u001b[0m\u001b[0m\n",
      "\u001b[0;32m<ipython-input-38-5e3adf8070e0>\u001b[0m in \u001b[0;36mplot1\u001b[0;34m(m, n, d, j)\u001b[0m\n\u001b[1;32m      2\u001b[0m     \u001b[0ml\u001b[0m \u001b[0;34m=\u001b[0m \u001b[0;34m[\u001b[0m\u001b[0;34m]\u001b[0m\u001b[0;34m\u001b[0m\u001b[0m\n\u001b[1;32m      3\u001b[0m     \u001b[0;32mfor\u001b[0m \u001b[0mi\u001b[0m \u001b[0;32min\u001b[0m \u001b[0mrange\u001b[0m\u001b[0;34m(\u001b[0m\u001b[0mj\u001b[0m\u001b[0;34m)\u001b[0m\u001b[0;34m:\u001b[0m\u001b[0;34m\u001b[0m\u001b[0m\n\u001b[0;32m----> 4\u001b[0;31m           \u001b[0ml\u001b[0m\u001b[0;34m.\u001b[0m\u001b[0mappend\u001b[0m\u001b[0;34m(\u001b[0m\u001b[0mrecovery2\u001b[0m\u001b[0;34m(\u001b[0m\u001b[0mm\u001b[0m\u001b[0;34m,\u001b[0m\u001b[0mn\u001b[0m\u001b[0;34m,\u001b[0m\u001b[0md\u001b[0m\u001b[0;34m,\u001b[0m\u001b[0mi\u001b[0m\u001b[0;34m)\u001b[0m\u001b[0;34m)\u001b[0m\u001b[0;34m\u001b[0m\u001b[0m\n\u001b[0m\u001b[1;32m      5\u001b[0m     \u001b[0;32mreturn\u001b[0m \u001b[0mnp\u001b[0m\u001b[0;34m.\u001b[0m\u001b[0marray\u001b[0m\u001b[0;34m(\u001b[0m\u001b[0ml\u001b[0m\u001b[0;34m)\u001b[0m\u001b[0;34m\u001b[0m\u001b[0m\n",
      "\u001b[0;32m<ipython-input-36-53a02ec90a8c>\u001b[0m in \u001b[0;36mrecovery2\u001b[0;34m(m, n, d, k)\u001b[0m\n\u001b[1;32m     14\u001b[0m         \u001b[0ml\u001b[0m \u001b[0;34m=\u001b[0m \u001b[0mnp\u001b[0m\u001b[0;34m.\u001b[0m\u001b[0mdot\u001b[0m\u001b[0;34m(\u001b[0m\u001b[0mA\u001b[0m\u001b[0;34m,\u001b[0m\u001b[0mx_r\u001b[0m\u001b[0;34m)\u001b[0m\u001b[0;34m\u001b[0m\u001b[0m\n\u001b[1;32m     15\u001b[0m         \u001b[0mg\u001b[0m \u001b[0;34m=\u001b[0m \u001b[0mnp\u001b[0m\u001b[0;34m.\u001b[0m\u001b[0mdot\u001b[0m\u001b[0;34m(\u001b[0m\u001b[0mnp\u001b[0m\u001b[0;34m.\u001b[0m\u001b[0mtranspose\u001b[0m\u001b[0;34m(\u001b[0m\u001b[0mA\u001b[0m\u001b[0;34m)\u001b[0m\u001b[0;34m,\u001b[0m\u001b[0;34m(\u001b[0m\u001b[0my\u001b[0m \u001b[0;34m-\u001b[0m \u001b[0mnp\u001b[0m\u001b[0;34m.\u001b[0m\u001b[0mdot\u001b[0m\u001b[0;34m(\u001b[0m\u001b[0mA\u001b[0m\u001b[0;34m,\u001b[0m \u001b[0mx_r\u001b[0m\u001b[0;34m)\u001b[0m\u001b[0;34m)\u001b[0m\u001b[0;34m)\u001b[0m\u001b[0;34m\u001b[0m\u001b[0m\n\u001b[0;32m---> 16\u001b[0;31m         \u001b[0mq\u001b[0m \u001b[0;34m=\u001b[0m \u001b[0mnp\u001b[0m\u001b[0;34m.\u001b[0m\u001b[0mdot\u001b[0m\u001b[0;34m(\u001b[0m\u001b[0mnp\u001b[0m\u001b[0;34m.\u001b[0m\u001b[0mtranspose\u001b[0m\u001b[0;34m(\u001b[0m\u001b[0mg\u001b[0m\u001b[0;34m)\u001b[0m\u001b[0;34m,\u001b[0m\u001b[0mg\u001b[0m\u001b[0;34m)\u001b[0m\u001b[0;34m/\u001b[0m\u001b[0;34m(\u001b[0m\u001b[0mnp\u001b[0m\u001b[0;34m.\u001b[0m\u001b[0mdot\u001b[0m\u001b[0;34m(\u001b[0m\u001b[0mnp\u001b[0m\u001b[0;34m.\u001b[0m\u001b[0mdot\u001b[0m\u001b[0;34m(\u001b[0m\u001b[0mnp\u001b[0m\u001b[0;34m.\u001b[0m\u001b[0mtranspose\u001b[0m\u001b[0;34m(\u001b[0m\u001b[0mg\u001b[0m\u001b[0;34m)\u001b[0m\u001b[0;34m,\u001b[0m\u001b[0mnp\u001b[0m\u001b[0;34m.\u001b[0m\u001b[0mtranspose\u001b[0m\u001b[0;34m(\u001b[0m\u001b[0mA\u001b[0m\u001b[0;34m)\u001b[0m\u001b[0;34m)\u001b[0m\u001b[0;34m,\u001b[0m\u001b[0mnp\u001b[0m\u001b[0;34m.\u001b[0m\u001b[0mdot\u001b[0m\u001b[0;34m(\u001b[0m\u001b[0mA\u001b[0m\u001b[0;34m,\u001b[0m\u001b[0mg\u001b[0m\u001b[0;34m)\u001b[0m\u001b[0;34m)\u001b[0m\u001b[0;34m)\u001b[0m\u001b[0;34m\u001b[0m\u001b[0m\n\u001b[0m\u001b[1;32m     17\u001b[0m         \u001b[0mv\u001b[0m \u001b[0;34m=\u001b[0m \u001b[0mnp\u001b[0m\u001b[0;34m.\u001b[0m\u001b[0marray\u001b[0m\u001b[0;34m(\u001b[0m\u001b[0;34m[\u001b[0m\u001b[0;36m1\u001b[0m \u001b[0;32mif\u001b[0m \u001b[0mi\u001b[0m \u001b[0;34m>\u001b[0m \u001b[0;36m0\u001b[0m \u001b[0;32melse\u001b[0m \u001b[0;36m0\u001b[0m \u001b[0;32mfor\u001b[0m \u001b[0mi\u001b[0m \u001b[0;32min\u001b[0m \u001b[0ml\u001b[0m\u001b[0;34m]\u001b[0m\u001b[0;34m)\u001b[0m\u001b[0;34m\u001b[0m\u001b[0m\n\u001b[1;32m     18\u001b[0m         \u001b[0mz\u001b[0m \u001b[0;34m=\u001b[0m \u001b[0my\u001b[0m\u001b[0;34m-\u001b[0m\u001b[0mv\u001b[0m\u001b[0;34m\u001b[0m\u001b[0m\n",
      "\u001b[0;31mKeyboardInterrupt\u001b[0m: "
     ]
    }
   ],
   "source": [
    "\"\"\"Here this a histogram of 3000 iterations when m,n,d are fixed\"\"\"\n",
    "n, bins, patches = plt.hist(x=plot1(4,7,2,10000), bins='auto', color='#0504aa', alpha=0.7, rwidth=0.85)\n",
    "plt.grid(axis='y', alpha=0.75)\n",
    "plt.xlabel('value of error')\n",
    "plt.ylabel('Frequency')\n",
    "plt.title('The frequency of each error')\n",
    "plt.text(23, 45, r'$\\mu=15, b=3$')\n",
    "maxfreq = n.max()\n",
    "# Set a clean upper y-axis limit.\n",
    "plt.ylim(ymax=np.ceil(maxfreq / 10) * 10 if maxfreq % 10 else maxfreq + 10)\n",
    "plt.show()"
   ]
  },
  {
   "cell_type": "code",
   "execution_count": 67,
   "metadata": {
    "collapsed": false
   },
   "outputs": [],
   "source": [
    "\"\"\"The taxicab norm\"\"\"\n",
    "def taxicab2222(m,n,d):\n",
    "    x = np.zeros(n)#Here we generate zeros\n",
    "    x[:d] = 1 #turn some of zeros into ones, the portion is specified by d  \n",
    "    np.random.shuffle(x) # \n",
    "    A = np.mod(np.random.permutation(m*n).reshape(m,n),2)\n",
    "    sum = 0 \n",
    "    for i in np.dot(A,x):\n",
    "        a = abs(i)\n",
    "        sum=sum+a\n",
    "    return x,sum"
   ]
  },
  {
   "cell_type": "code",
   "execution_count": 44,
   "metadata": {
    "collapsed": true
   },
   "outputs": [],
   "source": [
    "import matplotlib.pyplot as plt\n",
    "import numpy as np\n",
    "def outcome_vector(m,n,d):\n",
    "    x = np.zeros(n)#Here we generate zeros\n",
    "    x[:d] = 1 #turn some of zeros into ones, the portion is specified by d  \n",
    "    np.random.shuffle(x) # the shuffle function places these one randomly\n",
    "    #x = np.array(a, dtype = bool) you do not need this\n",
    "    A = np.mod(np.random.permutation(m*n).reshape(m,n),2) # random bianry matrix  \n",
    "    u = np.dot(A,x)# the product of A and x\n",
    "    y = [1 if i > 0  else i for i in u]  #turning y into 0,1 vector\n",
    "    return [A, x, y] # you should return all the information"
   ]
  },
  {
   "cell_type": "code",
   "execution_count": 65,
   "metadata": {
    "collapsed": false
   },
   "outputs": [
    {
     "data": {
      "text/plain": [
       "(array([ 1.,  0.,  1.,  0.]), 7.0)"
      ]
     },
     "execution_count": 65,
     "metadata": {},
     "output_type": "execute_result"
    }
   ],
   "source": [
    "taxicab(8,4,2)"
   ]
  },
  {
   "cell_type": "code",
   "execution_count": 11,
   "metadata": {
    "collapsed": true
   },
   "outputs": [],
   "source": [
    "def taxicab(A,x):\n",
    "    sum =0 \n",
    "    for i in np.dot(A,x):\n",
    "        a = abs(i)\n",
    "        sum=sum+a\n",
    "    return sum"
   ]
  },
  {
   "cell_type": "code",
   "execution_count": 12,
   "metadata": {
    "collapsed": true
   },
   "outputs": [],
   "source": [
    "def constraint(m,n,d,c,x):\n",
    "    while True:\n",
    "        A = np.mod(np.random.permutation(m*n).reshape(m,n),2)\n",
    "        if taxicab(A,x) > c:\n",
    "            A = np.mod(np.random.permutation(m*n).reshape(m,n),2)\n",
    "        else:\n",
    "            break\n",
    "    return A"
   ]
  },
  {
   "cell_type": "code",
   "execution_count": 4,
   "metadata": {
    "collapsed": false
   },
   "outputs": [
    {
     "ename": "TypeError",
     "evalue": "constraint() missing 1 required positional argument: 'x'",
     "output_type": "error",
     "traceback": [
      "\u001b[0;31m---------------------------------------------------------------------------\u001b[0m",
      "\u001b[0;31mTypeError\u001b[0m                                 Traceback (most recent call last)",
      "\u001b[0;32m<ipython-input-4-06fef1759c9e>\u001b[0m in \u001b[0;36m<module>\u001b[0;34m()\u001b[0m\n\u001b[0;32m----> 1\u001b[0;31m \u001b[0mconstraint\u001b[0m\u001b[0;34m(\u001b[0m\u001b[0;36m4\u001b[0m\u001b[0;34m,\u001b[0m\u001b[0;36m8\u001b[0m\u001b[0;34m,\u001b[0m\u001b[0;36m2\u001b[0m\u001b[0;34m,\u001b[0m\u001b[0;36m3\u001b[0m\u001b[0;34m)\u001b[0m\u001b[0;34m\u001b[0m\u001b[0m\n\u001b[0m",
      "\u001b[0;31mTypeError\u001b[0m: constraint() missing 1 required positional argument: 'x'"
     ]
    }
   ],
   "source": [
    "constraint(4,8,2,3)"
   ]
  },
  {
   "cell_type": "code",
   "execution_count": 89,
   "metadata": {
    "collapsed": false
   },
   "outputs": [],
   "source": [
    "def sparse(m,n,d,c,k):\n",
    "    x = np.zeros(n)#Here we generate zeros\n",
    "    x[:d] = 1 #turn some of zeros into ones, the portion is specified by d  \n",
    "    np.random.shuffle(x)\n",
    "    #print(x)\n",
    "    A = constraint(m,n,d,c,x)\n",
    "    #print(taxicab(A,x))\n",
    "    y = np.dot(A,x)\n",
    "    #print(y)\n",
    "    x_r = np.zeros(n)\n",
    "    for i in range(k):\n",
    "        l = np.dot(A,x_r)\n",
    "        g = np.dot(np.transpose(A),(y - np.dot(A, x_r)))\n",
    "        q = np.dot(np.transpose(g),g)/(np.dot(np.dot(np.transpose(g),np.transpose(A)),np.dot(A,g)))\n",
    "        v = np.array([i if i > 0 else 0 for i in l])\n",
    "        z = y-v\n",
    "        b = np.dot(np.transpose(A),z)\n",
    "        H = x_r + q * b\n",
    "        x_r = H\n",
    "    x_r = np.array([1 if i>0 else 0 for i in x_r])\n",
    "    count = 0 \n",
    "    for i in range(len(x_r)):\n",
    "        if x_r[i] != x[i]:\n",
    "            count = count+1\n",
    "    return count"
   ]
  },
  {
   "cell_type": "code",
   "execution_count": 90,
   "metadata": {
    "collapsed": false
   },
   "outputs": [
    {
     "data": {
      "text/plain": [
       "5"
      ]
     },
     "execution_count": 90,
     "metadata": {},
     "output_type": "execute_result"
    }
   ],
   "source": [
    "sparse(4,14,2,2,10)"
   ]
  },
  {
   "cell_type": "code",
   "execution_count": 102,
   "metadata": {
    "collapsed": false
   },
   "outputs": [
    {
     "name": "stderr",
     "output_type": "stream",
     "text": [
      "/usr/lib/python3/dist-packages/ipykernel/__main__.py:14: RuntimeWarning: invalid value encountered in double_scalars\n"
     ]
    }
   ],
   "source": [
    "lis = []\n",
    "for i in range(3000):\n",
    "    lis.append(sparse(4,14,2,2,i))"
   ]
  },
  {
   "cell_type": "code",
   "execution_count": null,
   "metadata": {
    "collapsed": false
   },
   "outputs": [],
   "source": []
  },
  {
   "cell_type": "code",
   "execution_count": 103,
   "metadata": {
    "collapsed": false
   },
   "outputs": [
    {
     "data": {
      "image/png": "[encoded data removed]",
      "text/plain": [
       "<matplotlib.figure.Figure at 0x7fadc30639e8>"
      ]
     },
     "metadata": {},
     "output_type": "display_data"
    }
   ],
   "source": [
    "\"\"\"Here this a histogram of 3000 iterations when m,n,d are fixed\"\"\"\n",
    "n, bins, patches = plt.hist(x=lis, bins='auto', color='#0504aa',\n",
    "                            alpha=0.7, rwidth=0.85)\n",
    "plt.grid(axis='y', alpha=0.75)\n",
    "plt.xlabel('value of error')\n",
    "plt.ylabel('Frequency')\n",
    "plt.title('The frequency of each error')\n",
    "plt.text(23, 45, r'$\\mu=15, b=3$')\n",
    "maxfreq = n.max()\n",
    "# Set a clean upper y-axis limit.\n",
    "plt.ylim(ymax=np.ceil(maxfreq / 10) * 10 if maxfreq % 10 else maxfreq + 10)\n",
    "plt.show()"
   ]
  },
  {
   "cell_type": "code",
   "execution_count": 1,
   "metadata": {
    "collapsed": true
   },
   "outputs": [],
   "source": [
    "li = [1,2,6,73,9]"
   ]
  },
  {
   "cell_type": "code",
   "execution_count": 9,
   "metadata": {
    "collapsed": false
   },
   "outputs": [
    {
     "name": "stdout",
     "output_type": "stream",
     "text": [
      "None\n"
     ]
    }
   ],
   "source": [
    "print(li.sort(reverse=True))"
   ]
  },
  {
   "cell_type": "code",
   "execution_count": 10,
   "metadata": {
    "collapsed": false
   },
   "outputs": [
    {
     "data": {
      "text/plain": [
       "[73, 9, 6, 2, 1]"
      ]
     },
     "execution_count": 10,
     "metadata": {},
     "output_type": "execute_result"
    }
   ],
   "source": [
    "li"
   ]
  },
  {
   "cell_type": "code",
   "execution_count": 12,
   "metadata": {
    "collapsed": false
   },
   "outputs": [
    {
     "name": "stdout",
     "output_type": "stream",
     "text": [
      "<list_reverseiterator object at 0x7f9ff062b470>\n"
     ]
    }
   ],
   "source": [
    "print(reversed(li))"
   ]
  },
  {
   "cell_type": "code",
   "execution_count": null,
   "metadata": {
    "collapsed": true
   },
   "outputs": [],
   "source": []
  }
 ],
 "metadata": {
  "kernelspec": {
   "display_name": "Python 3",
   "language": "python",
   "name": "python3"
  },
  "language_info": {
   "codemirror_mode": {
    "name": "ipython",
    "version": 3
   },
   "file_extension": ".py",
   "mimetype": "text/x-python",
   "name": "python",
   "nbconvert_exporter": "python",
   "pygments_lexer": "ipython3",
   "version": "3.5.3"
  }
 },
 "nbformat": 4,
 "nbformat_minor": 2
}
