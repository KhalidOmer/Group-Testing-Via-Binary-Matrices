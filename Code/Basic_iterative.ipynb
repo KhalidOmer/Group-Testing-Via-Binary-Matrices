{
 "cells": [
  {
   "cell_type": "code",
   "execution_count": 1,
   "metadata": {
    "collapsed": true
   },
   "outputs": [],
   "source": [
    "import matplotlib.pyplot as plt\n",
    "import numpy as np\n",
    "def outcome_vector(m,n,d):\n",
    "    x = np.zeros(n)#Here we generate zeros\n",
    "    x[:d] = 1 #turn some of zeros into ones, the portion is specified by d  \n",
    "    np.random.shuffle(x) # the shuffle function places these one randomly\n",
    "    #x = np.array(a, dtype = bool) you do not need this\n",
    "    A = np.mod(np.random.permutation(m*n).reshape(m,n),2) # random bianry matrix  \n",
    "    u = np.dot(A,x)# the product of A and x\n",
    "    y = [1 if i > 0  else i for i in u]  #turning y into 0,1 vector\n",
    "    return A, x, y # you should return all the information"
   ]
  },
  {
   "cell_type": "code",
   "execution_count": 2,
   "metadata": {
    "collapsed": true
   },
   "outputs": [],
   "source": [
    "def prunc(x, k):\n",
    "    #This function takes a vector x and returns a vector xk with the k largest\n",
    "    #in magnitude entries of x not set to zero\n",
    "    indices = np.argsort(np.abs(x))[::-1]\n",
    "    largest = indices[0:k]\n",
    "    #print(largest)\n",
    "    xk = np.zeros(len(x))\n",
    "    for kl in largest:\n",
    "        xk[kl] = x[kl]\n",
    "    return xk"
   ]
  },
  {
   "cell_type": "code",
   "execution_count": 3,
   "metadata": {
    "collapsed": false
   },
   "outputs": [],
   "source": [
    "def recovery1(A,y,d,k):\n",
    "    \"\"\"\n",
    "    to access data from the function outcome_vector\n",
    "    the output is retruned in a form of a list.\n",
    "    k is the number of iteration which we will stop.\n",
    "    here x_0 is taken to be 0 vector\n",
    "    \"\"\"\n",
    "    m, n = A.shape\n",
    "    x_r = np.zeros(n)\n",
    "    for i in range(k):\n",
    "        l = np.dot(A,x_r)\n",
    "        #print(l)\n",
    "        v = np.array([1 if j > 0 else 0 for j in l])\n",
    "        z = y-v\n",
    "        b = np.dot(np.transpose(A),z)\n",
    "        H = x_r + b\n",
    "        x_r = H\n",
    "    xbar = prunc(x_r,d)\n",
    "    xbar = np.array([1 if i >0 else 0 for i in xbar])\n",
    "    return xbar"
   ]
  },
  {
   "cell_type": "code",
   "execution_count": 45,
   "metadata": {
    "collapsed": false
   },
   "outputs": [],
   "source": [
    "A, x, y = outcome_vector(3,10,2)"
   ]
  },
  {
   "cell_type": "code",
   "execution_count": 46,
   "metadata": {
    "collapsed": false
   },
   "outputs": [
    {
     "name": "stdout",
     "output_type": "stream",
     "text": [
      "[0 0 0 1 0 0 0 0 0 1]\n"
     ]
    }
   ],
   "source": [
    "xc = recovery1(A,y,2,100); print(xc)"
   ]
  },
  {
   "cell_type": "code",
   "execution_count": 47,
   "metadata": {
    "collapsed": false
   },
   "outputs": [],
   "source": [
    "# examples \n",
    "# This is an example of no. of exactly recovered vs m\n",
    "#A, x, y = simulate_input(20, 100, 2)\n",
    "#xbar = biht(A,y, 2)\n",
    "exa =[]\n",
    "faln = []\n",
    "falp = []\n",
    "d = 2 # assume there are only d defectives\n",
    "n = 100 # the total number of individuals being tested\n",
    "#m = number of tests\n",
    "k = 1000\n",
    "for m in np.arange(10,n,5):\n",
    "    count = 0\n",
    "    neg = 0 \n",
    "    pos = 0 \n",
    "    for j in np.arange(100):\n",
    "        A, x, y = outcome_vector(m,n,d)\n",
    "        xbar = recovery1(A,y,d,k)\n",
    "        if (xbar==x).all() == True:\n",
    "            count = count+1\n",
    "        #exa.append(count)\n",
    "        else: \n",
    "            for i in range(len(xbar)):\n",
    "                if xbar[i] < x[i]:\n",
    "                    neg = neg+1\n",
    "                    #faln.append(neg)\n",
    "                elif xbar[i] > x[i]: \n",
    "                    pos = pos+1\n",
    "                    #falp.append(pos)\n",
    "    exa.append(count/100)\n",
    "    faln.append(neg/100)\n",
    "    falp.append(pos/100)\n",
    "\n",
    "#print(exa)\n",
    "#print(faln)\n",
    "#print(falp)"
   ]
  },
  {
   "cell_type": "code",
   "execution_count": null,
   "metadata": {
    "collapsed": true
   },
   "outputs": [],
   "source": []
  },
  {
   "cell_type": "code",
   "execution_count": 36,
   "metadata": {
    "collapsed": false
   },
   "outputs": [
    {
     "name": "stdout",
     "output_type": "stream",
     "text": [
      "18\n"
     ]
    }
   ],
   "source": [
    "print(len(exa))"
   ]
  },
  {
   "cell_type": "code",
   "execution_count": 48,
   "metadata": {
    "collapsed": false
   },
   "outputs": [
    {
     "data": {
      "image/png": "[encoded data removed]",
      "text/plain": [
       "<matplotlib.figure.Figure at 0x7fb28bb6ce10>"
      ]
     },
     "metadata": {},
     "output_type": "display_data"
    },
    {
     "data": {
      "image/png": "[encoded data removed]",
      "text/plain": [
       "<matplotlib.figure.Figure at 0x7fb28bd736d8>"
      ]
     },
     "metadata": {},
     "output_type": "display_data"
    }
   ],
   "source": [
    "x = np.arange(10,n,5)\n",
    "# plot of false positive and false negatives \n",
    "plt.plot(x,faln,'r', label = 'False negatives')\n",
    "plt.plot(x,falp, 'b', label = 'False positives')\n",
    "plt.xlabel('Number of tests')\n",
    "plt.ylabel('Average number')\n",
    "#plt.title(\"The number of exactly recovered vectors vs different values of m\")\n",
    "plt.legend()\n",
    "plt.show()\n",
    "\n",
    "#  separate plot for the exact recovery \n",
    "plt.plot(x,exa, 'g', label = \"Exact recovery\")\n",
    "plt.xlabel('Number of tests')\n",
    "plt.ylabel('Probability of perfect recovery')\n",
    "plt.legend()\n",
    "plt.show()"
   ]
  },
  {
   "cell_type": "code",
   "execution_count": null,
   "metadata": {
    "collapsed": true
   },
   "outputs": [],
   "source": []
  }
 ],
 "metadata": {
  "kernelspec": {
   "display_name": "Python 3",
   "language": "python",
   "name": "python3"
  },
  "language_info": {
   "codemirror_mode": {
    "name": "ipython",
    "version": 3
   },
   "file_extension": ".py",
   "mimetype": "text/x-python",
   "name": "python",
   "nbconvert_exporter": "python",
   "pygments_lexer": "ipython3",
   "version": "3.5.3"
  }
 },
 "nbformat": 4,
 "nbformat_minor": 2
}
