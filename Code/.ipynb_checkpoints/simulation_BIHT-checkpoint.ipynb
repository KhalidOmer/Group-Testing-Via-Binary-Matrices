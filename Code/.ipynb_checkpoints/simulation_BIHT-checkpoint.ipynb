{
 "cells": [
  {
   "cell_type": "code",
   "execution_count": 1,
   "metadata": {
    "collapsed": true
   },
   "outputs": [],
   "source": [
    "# importing the required library \n",
    "import matplotlib.pyplot as plt\n",
    "import numpy as np"
   ]
  },
  {
   "cell_type": "code",
   "execution_count": 2,
   "metadata": {
    "collapsed": true
   },
   "outputs": [],
   "source": [
    "def simulate_input(m,n,d):\n",
    "    # this function randomy generate the design matrix A, vector x, and binarized vector of their product y\n",
    "    x = np.zeros(n) #Here we generate zeros\n",
    "    x[:d] = 1 #turn some of zeros into ones, the portion is specified by d  \n",
    "    np.random.shuffle(x) # the shuffle function places these one randomly\n",
    "    #x = np.array(a, dtype = bool) you do not need this\n",
    "    A = np.mod(np.random.permutation(m*n).reshape(m,n),2) # random bianry matrix  \n",
    "    u = np.dot(A,x)# the product of A and x\n",
    "    y = np.sign(u)  # binary of the product\n",
    "    return A, x, y"
   ]
  },
  {
   "cell_type": "code",
   "execution_count": 3,
   "metadata": {
    "collapsed": true
   },
   "outputs": [],
   "source": [
    "def prunc(x, k):\n",
    "    #This function takes a vector x and returns a vector xk with the k largest\n",
    "    #in magnitude entries of x not set to zero\n",
    "    indices = np.argsort(np.abs(x))[::-1]\n",
    "    largest = indices[0:k]\n",
    "    #print(largest)\n",
    "    xk = np.zeros(len(x))\n",
    "    for kl in largest:\n",
    "        xk[kl] = x[kl]\n",
    "    return xk"
   ]
  },
  {
   "cell_type": "code",
   "execution_count": 4,
   "metadata": {
    "collapsed": true
   },
   "outputs": [],
   "source": [
    "def biht(A, y, d):\n",
    "    # This function performs one-bit compressive sensing via the Binary Iterative Hard Thresholding algorithm and returns the recoverd vector x_bar\n",
    "    m, n = A.shape\n",
    "    x_bar = np.zeros(n)\n",
    "    tau = 0.001 # step size for gradient update\n",
    "    tol = 10E-16 # stoping criteria \n",
    "    i = 0 \n",
    "    while i < 1000:\n",
    "        i = i+1\n",
    "        dif = y - np.sign(np.dot(A, x_bar))\n",
    "        temp = x_bar + (tau/2)*np.dot(np.transpose(A), dif)\n",
    "        x1 = prunc(temp, d)\n",
    "        err = np.subtract(x1, x_bar)\n",
    "        assert(x1.shape == x_bar.shape)\n",
    "        #print(err, np.linalg.norm(np.abs(err)))\n",
    "        if np.linalg.norm(np.abs(err)) < tol:\n",
    "            break\n",
    "        x_bar = x1\n",
    "\n",
    "    x_bar = [1.0 if x_bar[i] > 0 else 0.0 for i in range(len(x_bar))]\n",
    "    return np.array(x_bar)"
   ]
  },
  {
   "cell_type": "code",
   "execution_count": null,
   "metadata": {
    "collapsed": true
   },
   "outputs": [],
   "source": [
    "n  = 100\n",
    "m = 20\n",
    "d = 2\n",
    "count  = 0\n",
    "co = []\n",
    "for i in range(10): \n",
    "    A, x, y = simulate_input(m, n ,d)\n",
    "    xbar = biht(A, y, d)\n",
    "    for j in range(len(xbar)):\n",
    "        if xbar[j] == x[j]: \n",
    "            count = count+1\n",
    "        co.append(count)"
   ]
  },
  {
   "cell_type": "code",
   "execution_count": null,
   "metadata": {
    "collapsed": true
   },
   "outputs": [],
   "source": []
  },
  {
   "cell_type": "code",
   "execution_count": null,
   "metadata": {
    "collapsed": false
   },
   "outputs": [],
   "source": [
    "# examples \n",
    "# This is an example of no. of exactly recovered vs m\n",
    "#A, x, y = simulate_input(20, 100, 2)\n",
    "#xbar = biht(A,y, 2)\n",
    "exa =[]\n",
    "faln = []\n",
    "falp = []\n",
    "d = 4 # assume there are only d defectives\n",
    "n = 1024 # the total number of individuals being tested\n",
    "#m = number of tests\n",
    "\n",
    "for m in np.arange(10,n,5):\n",
    "  count = 0\n",
    "  neg = 0 \n",
    "  pos = 0 \n",
    "  for k in np.arange(100):\n",
    "        A, x, y = simulate_input(m, n, d)\n",
    "        xbar = biht(A,y,d)\n",
    "        if (xbar==x).all() == True:\n",
    "            count = count+1\n",
    "        #exa.append(count)\n",
    "  \n",
    "        else: \n",
    "             for i in range(len(xbar)):\n",
    "                if xbar[i] < x[i]:\n",
    "                    neg = neg+1\n",
    "                      #faln.append(neg)\n",
    "                elif xbar[i] > x[i]: \n",
    "                    pos = pos+1\n",
    "                      #falp.append(pos)\n",
    "  exa.append(count/100)\n",
    "  faln.append(neg/100)\n",
    "  falp.append(pos/100)\n",
    "\n",
    "#print(exa)\n",
    "#print(faln)\n",
    "#print(falp)"
   ]
  },
  {
   "cell_type": "code",
   "execution_count": 8,
   "metadata": {
    "collapsed": false
   },
   "outputs": [
    {
     "name": "stdout",
     "output_type": "stream",
     "text": [
      "101\n"
     ]
    }
   ],
   "source": [
    "print(len(faln))"
   ]
  },
  {
   "cell_type": "code",
   "execution_count": null,
   "metadata": {
    "collapsed": false
   },
   "outputs": [],
   "source": [
    "x = np.arange(10,n,5)\n",
    "# plot of false positive and false negatives \n",
    "plt.plot(x,faln,'r', label = 'False negatives')\n",
    "plt.plot(x,falp, 'b', label = 'False positives')\n",
    "plt.xlabel('Number of tests')\n",
    "plt.ylabel('Average number')\n",
    "#plt.title(\"The number of exactly recovered vectors vs different values of m\")\n",
    "plt.legend()\n",
    "plt.show()\n",
    "\n",
    "#  separate plot for the exact recovery \n",
    "plt.plot(x,exa, 'g', label = \"Exact recovery\")\n",
    "plt.xlabel('Number of tests')\n",
    "plt.ylabel('Probability of perfect recovery')\n",
    "plt.legend()\n",
    "plt.show()"
   ]
  },
  {
   "cell_type": "code",
   "execution_count": null,
   "metadata": {
    "collapsed": true
   },
   "outputs": [],
   "source": []
  }
 ],
 "metadata": {
  "kernelspec": {
   "display_name": "Python 3",
   "language": "python",
   "name": "python3"
  },
  "language_info": {
   "codemirror_mode": {
    "name": "ipython",
    "version": 3
   },
   "file_extension": ".py",
   "mimetype": "text/x-python",
   "name": "python",
   "nbconvert_exporter": "python",
   "pygments_lexer": "ipython3",
   "version": "3.5.3"
  }
 },
 "nbformat": 4,
 "nbformat_minor": 2
}
