{
 "cells": [
  {
   "cell_type": "code",
   "execution_count": 2,
   "metadata": {
    "collapsed": true
   },
   "outputs": [],
   "source": [
    "import matplotlib.pyplot as plt\n",
    "import numpy as np\n",
    "def outcome_vector(m,n,d):\n",
    "    x = np.zeros(n)#Here we generate zeros\n",
    "    x[:d] = 1 #turn some of zeros into ones, the portion is specified by d  \n",
    "    np.random.shuffle(x) # the shuffle function places these one randomly\n",
    "    #x = np.array(a, dtype = bool) you do not need this\n",
    "    A = np.mod(np.random.permutation(m*n).reshape(m,n),2) # random bianry matrix  \n",
    "    u = np.dot(A,x)# the product of A and x\n",
    "    y = [1 if i > 0  else i for i in u]  #turning y into 0,1 vector\n",
    "    return A, x, y # you should return all the information"
   ]
  },
  {
   "cell_type": "code",
   "execution_count": 3,
   "metadata": {
    "collapsed": true
   },
   "outputs": [],
   "source": [
    "def prunc(x, k):\n",
    "    #This function takes a vector x and returns a vector xk with the k largest\n",
    "    #in magnitude entries of x not set to zero\n",
    "    indices = np.argsort(np.abs(x))[::-1]\n",
    "    largest = indices[0:k]\n",
    "    #print(largest)\n",
    "    xk = np.zeros(len(x))\n",
    "    for kl in largest:\n",
    "        xk[kl] = x[kl]\n",
    "    return xk"
   ]
  },
  {
   "cell_type": "code",
   "execution_count": 4,
   "metadata": {
    "collapsed": true
   },
   "outputs": [],
   "source": [
    "def recovery1(m,n,d,k):\n",
    "    \"\"\"\n",
    "    to access data from the function outcome_vector\n",
    "    the output is retruned in a form of a list.\n",
    "    k is the number of iteration which we will stop.\n",
    "    here x_0 is taken to be 0 vector\n",
    "    \"\"\"\n",
    "    c = outcome_vector(m,n,d)\n",
    "    A = c[0]\n",
    "    #print(A)\n",
    "    y = np.array(c[2])\n",
    "    #print(y)\n",
    "    x = np.array(c[1])\n",
    "    #print(x)\n",
    "    x_r = np.zeros(n)\n",
    "    for i in range(k):\n",
    "        l = np.dot(A,x_r)\n",
    "        v = np.array([1 if i > 0 else 0 for i in l])\n",
    "        z = y-v\n",
    "        b = np.dot(np.transpose(A),z)\n",
    "        H = x_r + b\n",
    "        x_r = H\n",
    "    xbar = prunc(x_r,d)\n",
    "    return xbar"
   ]
  },
  {
   "cell_type": "code",
   "execution_count": 5,
   "metadata": {
    "collapsed": false
   },
   "outputs": [
    {
     "ename": "NameError",
     "evalue": "name 'simulate_input' is not defined",
     "output_type": "error",
     "traceback": [
      "\u001b[0;31m---------------------------------------------------------------------------\u001b[0m",
      "\u001b[0;31mNameError\u001b[0m                                 Traceback (most recent call last)",
      "\u001b[0;32m<ipython-input-5-1bd501e1b2e2>\u001b[0m in \u001b[0;36m<module>\u001b[0;34m()\u001b[0m\n\u001b[1;32m     15\u001b[0m     \u001b[0mpos\u001b[0m \u001b[0;34m=\u001b[0m \u001b[0;36m0\u001b[0m\u001b[0;34m\u001b[0m\u001b[0m\n\u001b[1;32m     16\u001b[0m     \u001b[0;32mfor\u001b[0m \u001b[0mk\u001b[0m \u001b[0;32min\u001b[0m \u001b[0mnp\u001b[0m\u001b[0;34m.\u001b[0m\u001b[0marange\u001b[0m\u001b[0;34m(\u001b[0m\u001b[0;36m100\u001b[0m\u001b[0;34m)\u001b[0m\u001b[0;34m:\u001b[0m\u001b[0;34m\u001b[0m\u001b[0m\n\u001b[0;32m---> 17\u001b[0;31m             \u001b[0mA\u001b[0m\u001b[0;34m,\u001b[0m \u001b[0mx\u001b[0m\u001b[0;34m,\u001b[0m \u001b[0my\u001b[0m \u001b[0;34m=\u001b[0m \u001b[0msimulate_input\u001b[0m\u001b[0;34m(\u001b[0m\u001b[0mm\u001b[0m\u001b[0;34m,\u001b[0m \u001b[0mn\u001b[0m\u001b[0;34m,\u001b[0m \u001b[0md\u001b[0m\u001b[0;34m)\u001b[0m\u001b[0;34m\u001b[0m\u001b[0m\n\u001b[0m\u001b[1;32m     18\u001b[0m             \u001b[0mxbar\u001b[0m \u001b[0;34m=\u001b[0m \u001b[0mbiht\u001b[0m\u001b[0;34m(\u001b[0m\u001b[0mA\u001b[0m\u001b[0;34m,\u001b[0m\u001b[0my\u001b[0m\u001b[0;34m,\u001b[0m\u001b[0md\u001b[0m\u001b[0;34m)\u001b[0m\u001b[0;34m\u001b[0m\u001b[0m\n\u001b[1;32m     19\u001b[0m             \u001b[0;32mif\u001b[0m \u001b[0;34m(\u001b[0m\u001b[0mxbar\u001b[0m\u001b[0;34m==\u001b[0m\u001b[0mx\u001b[0m\u001b[0;34m)\u001b[0m\u001b[0;34m.\u001b[0m\u001b[0mall\u001b[0m\u001b[0;34m(\u001b[0m\u001b[0;34m)\u001b[0m \u001b[0;34m==\u001b[0m \u001b[0;32mTrue\u001b[0m\u001b[0;34m:\u001b[0m\u001b[0;34m\u001b[0m\u001b[0m\n",
      "\u001b[0;31mNameError\u001b[0m: name 'simulate_input' is not defined"
     ]
    }
   ],
   "source": [
    "# examples \n",
    "# This is an example of no. of exactly recovered vs m\n",
    "#A, x, y = simulate_input(20, 100, 2)\n",
    "#xbar = biht(A,y, 2)\n",
    "exa =[]\n",
    "faln = []\n",
    "falp = []\n",
    "d = 2 # assume there are only d defectives\n",
    "n = 100 # the total number of individuals being tested\n",
    "#m = number of tests\n",
    "\n",
    "for m in np.arange(10,n,5):\n",
    "    count = 0\n",
    "    neg = 0 \n",
    "    pos = 0 \n",
    "    for k in np.arange(100):\n",
    "            A, x, y = simulate_input(m, n, d)\n",
    "            xbar = biht(A,y,d)\n",
    "            if (xbar==x).all() == True:\n",
    "                count = count+1\n",
    "        #exa.append(count)\n",
    "  \n",
    "            else: \n",
    "                 for i in range(len(xbar)):\n",
    "                      if xbar[i] < x[i]:\n",
    "                          neg = neg+1\n",
    "                    #faln.append(neg)\n",
    "                      elif xbar[i] > x[i]: \n",
    "                              pos = pos+1\n",
    "                    #falp.append(pos)\n",
    "exa.append(count/100)\n",
    "faln.append(neg/100)\n",
    "falp.append(pos/100)\n",
    "\n",
    "print(exa)\n",
    "print(faln)\n",
    "print(falp)"
   ]
  },
  {
   "cell_type": "code",
   "execution_count": null,
   "metadata": {
    "collapsed": true
   },
   "outputs": [],
   "source": []
  }
 ],
 "metadata": {
  "kernelspec": {
   "display_name": "Python 3",
   "language": "python",
   "name": "python3"
  },
  "language_info": {
   "codemirror_mode": {
    "name": "ipython",
    "version": 3
   },
   "file_extension": ".py",
   "mimetype": "text/x-python",
   "name": "python",
   "nbconvert_exporter": "python",
   "pygments_lexer": "ipython3",
   "version": "3.5.3"
  }
 },
 "nbformat": 4,
 "nbformat_minor": 2
}
