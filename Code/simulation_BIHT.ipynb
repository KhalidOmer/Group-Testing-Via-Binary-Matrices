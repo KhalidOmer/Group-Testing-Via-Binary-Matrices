{
 "cells": [
  {
   "cell_type": "code",
   "execution_count": 1,
   "metadata": {
    "collapsed": true
   },
   "outputs": [],
   "source": [
    "# importing the required library \n",
    "import matplotlib.pyplot as plt\n",
    "import numpy as np"
   ]
  },
  {
   "cell_type": "code",
   "execution_count": 2,
   "metadata": {
    "collapsed": true
   },
   "outputs": [],
   "source": [
    "def simulate_input(m,n,d):\n",
    "    # this function randomy generate the design matrix A, vector x, and binarized vector of their product y\n",
    "    x = np.zeros(n) #Here we generate zeros\n",
    "    x[:d] = 1 #turn some of zeros into ones, the portion is specified by d  \n",
    "    np.random.shuffle(x) # the shuffle function places these one randomly\n",
    "    #x = np.array(a, dtype = bool) you do not need this\n",
    "    A = np.mod(np.random.permutation(m*n).reshape(m,n),2) # random bianry matrix  \n",
    "    u = np.dot(A,x)# the product of A and x\n",
    "    y = np.sign(u)  # binary of the product\n",
    "    return A, x, y"
   ]
  },
  {
   "cell_type": "code",
   "execution_count": 3,
   "metadata": {
    "collapsed": true
   },
   "outputs": [],
   "source": [
    "def prunc(x, k):\n",
    "    #This function takes a vector x and returns a vector xk with the k largest\n",
    "    #in magnitude entries of x not set to zero\n",
    "    indices = np.argsort(np.abs(x))[::-1]\n",
    "    largest = indices[0:k]\n",
    "    #print(largest)\n",
    "    xk = np.zeros(len(x))\n",
    "    for kl in largest:\n",
    "        xk[kl] = x[kl]\n",
    "    return xk"
   ]
  },
  {
   "cell_type": "code",
   "execution_count": 4,
   "metadata": {
    "collapsed": true
   },
   "outputs": [],
   "source": [
    "def biht(A, y, d):\n",
    "    # This function performs one-bit compressive sensing via the Binary Iterative Hard Thresholding algorithm and returns the recoverd vector x_bar\n",
    "    m, n = A.shape\n",
    "    x_bar = np.zeros(n)\n",
    "    tau = 0.001 # step size for gradient update\n",
    "    tol = 10E-16 # stoping criteria \n",
    "    i = 0 \n",
    "    while i < 1000:\n",
    "        i = i+1\n",
    "        dif = y - np.sign(np.dot(A, x_bar))\n",
    "        temp = x_bar + (tau/2)*np.dot(np.transpose(A), dif)\n",
    "        x1 = prunc(temp, d)\n",
    "        err = np.subtract(x1, x_bar)\n",
    "        assert(x1.shape == x_bar.shape)\n",
    "        #print(err, np.linalg.norm(np.abs(err)))\n",
    "        if np.linalg.norm(np.abs(err)) < tol:\n",
    "            break\n",
    "        x_bar = x1\n",
    "\n",
    "    x_bar = [1.0 if x_bar[i] > 0 else 0.0 for i in range(len(x_bar))]\n",
    "    return np.array(x_bar)"
   ]
  },
  {
   "cell_type": "code",
   "execution_count": 41,
   "metadata": {
    "collapsed": false
   },
   "outputs": [],
   "source": [
    "#Here we check the error sigma for 1000 simulations when m is fixed\n",
    "n  = 1024\n",
    "m = 80\n",
    "d = 4\n",
    "co = []\n",
    "for i in range(1000): \n",
    "    A, x, y = simulate_input(m, n ,d)\n",
    "    xbar = biht(A, y, d)\n",
    "    #print(x)\n",
    "    #print(xbar)\n",
    "    count = 0\n",
    "    for j in range(len(xbar)):\n",
    "        if xbar[j] != x[j]: \n",
    "            count = count+1\n",
    "co.append(count)"
   ]
  },
  {
   "cell_type": "code",
   "execution_count": 54,
   "metadata": {
    "collapsed": false
   },
   "outputs": [],
   "source": []
  },
  {
   "cell_type": "code",
   "execution_count": 56,
   "metadata": {
    "collapsed": false
   },
   "outputs": [
    {
     "data": {
      "text/plain": [
       "'0.19.2'"
      ]
     },
     "execution_count": 56,
     "metadata": {},
     "output_type": "execute_result"
    }
   ],
   "source": []
  },
  {
   "cell_type": "code",
   "execution_count": 38,
   "metadata": {
    "collapsed": false
   },
   "outputs": [
    {
     "data": {
      "image/png": "[encoded data removed]",
      "text/plain": [
       "<matplotlib.figure.Figure at 0x7f84a374d198>"
      ]
     },
     "metadata": {},
     "output_type": "display_data"
    }
   ],
   "source": [
    "plt.hist(co,bins='auto', color='#0504aa', alpha=0.7, rwidth=0.8)\n",
    "plt.grid(axis='y', alpha=0.7)\n",
    "plt.xlabel('$\\sigma$')\n",
    "plt.ylabel('Frequency')\n",
    "plt.title('')\n",
    "maxfreq = len(co)\n",
    "plt.ylim(ymax=np.ceil(maxfreq / 10) * 10 if maxfreq % 10 else maxfreq + 10)\n",
    "plt.show()"
   ]
  },
  {
   "cell_type": "code",
   "execution_count": null,
   "metadata": {
    "collapsed": true
   },
   "outputs": [],
   "source": []
  },
  {
   "cell_type": "code",
   "execution_count": null,
   "metadata": {
    "collapsed": false
   },
   "outputs": [],
   "source": [
    "#Here we check sigma vs m\n",
    "n  = 10000\n",
    "#m = 20\n",
    "d = 20\n",
    "co = []\n",
    "for m in np.arange(10,n,5):\n",
    "    for i in range(10): \n",
    "        A, x, y = simulate_input(m, n ,d)\n",
    "        xbar = biht(A, y, d)\n",
    "        #print(x)\n",
    "        #print(xbar)\n",
    "        count = 0\n",
    "        for j in range(len(xbar)):\n",
    "            if xbar[j] != x[j]: \n",
    "                count = count+1\n",
    "    co.append(count)"
   ]
  },
  {
   "cell_type": "code",
   "execution_count": null,
   "metadata": {
    "collapsed": false
   },
   "outputs": [],
   "source": []
  },
  {
   "cell_type": "code",
   "execution_count": 50,
   "metadata": {
    "collapsed": false
   },
   "outputs": [
    {
     "data": {
      "image/png": "[encoded data removed]",
      "text/plain": [
       "<matplotlib.figure.Figure at 0x7f84a3581ac8>"
      ]
     },
     "metadata": {},
     "output_type": "display_data"
    }
   ],
   "source": [
    "x = np.arange(10,n,5)\n",
    "#  separate plot for the error sigma  \n",
    "plt.plot(x,co, 'b', label = \"$\\sigma$\")\n",
    "plt.xlabel('Number of tests (m)')\n",
    "plt.ylabel('$\\sigma$')\n",
    "plt.legend()\n",
    "plt.show()"
   ]
  },
  {
   "cell_type": "code",
   "execution_count": 79,
   "metadata": {
    "collapsed": false
   },
   "outputs": [
    {
     "data": {
      "image/png": "[encoded data removed]",
      "text/plain": [
       "<matplotlib.figure.Figure at 0x7fa0f5733630>"
      ]
     },
     "metadata": {},
     "output_type": "display_data"
    }
   ],
   "source": [
    "plt.hist(co,bins='auto', color='#0504aa', alpha=0.7, rwidth=0.8)\n",
    "plt.grid(axis='y', alpha=0.7)\n",
    "plt.xlabel('$\\sigma$')\n",
    "plt.ylabel('Frequency')\n",
    "plt.title('')\n",
    "maxfreq = len(co)\n",
    "plt.ylim(ymax=np.ceil(maxfreq / 10) * 10 if maxfreq % 10 else maxfreq + 10)\n",
    "plt.show() "
   ]
  },
  {
   "cell_type": "code",
   "execution_count": null,
   "metadata": {
    "collapsed": true
   },
   "outputs": [],
   "source": [
    "\"\"\"Here this a histogram of 3000 iterations when m,n,d are fixed\"\"\"\n",
    "n, bins, patches = plt.hist(x=plot(7,14,2,1000, bins='auto', color='#0504aa',\n",
    "                            alpha=0.7, rwidth=0.85)\n",
    "plt.grid(axis='y', alpha=0.75)\n",
    "plt.xlabel('$\\sigma$')\n",
    "plt.ylabel('Frequency')\n",
    "plt.title('')\n",
    "#plt.text(23, 45, r'$\\mu=15, b=3$')\n",
    "maxfreq = n.max()\n",
    "# Set a clean upper y-axis limit.\n",
    "plt.ylim(ymax=np.ceil(maxfreq / 10) * 10 if maxfreq % 10 else maxfreq + 10)"
   ]
  },
  {
   "cell_type": "code",
   "execution_count": 65,
   "metadata": {
    "collapsed": false
   },
   "outputs": [
    {
     "data": {
      "image/png": "[encoded data removed]",
      "text/plain": [
       "<matplotlib.figure.Figure at 0x7fa0f55113c8>"
      ]
     },
     "metadata": {},
     "output_type": "display_data"
    }
   ],
   "source": [
    "\"\"\"Here this a histogram of 3000 iterations when m,n,d are fixed\"\"\"\n",
    "n, bins, patches = plt.hist(x= co, bins='auto', color='#0504aa',\n",
    "                            alpha=0.7, rwidth=0.85)\n",
    "plt.grid(axis='y', alpha=0.75)\n",
    "plt.xlabel('$\\sigma$')\n",
    "plt.ylabel('Frequency')\n",
    "plt.title('')\n",
    "plt.text(23, 45, r'$\\mu=15, b=3$')\n",
    "maxfreq = n.max()\n",
    "# Set a clean upper y-axis limit.\n",
    "plt.ylim(ymax=np.ceil(maxfreq / 10) * 10 if maxfreq % 10 else maxfreq + 10)\n",
    "plt.show()"
   ]
  },
  {
   "cell_type": "code",
   "execution_count": null,
   "metadata": {
    "collapsed": false
   },
   "outputs": [],
   "source": [
    "# examples \n",
    "# This is an example of no. of exactly recovered vs m\n",
    "#A, x, y = simulate_input(20, 100, 2)\n",
    "#xbar = biht(A,y, 2)\n",
    "exa =[]\n",
    "faln = []\n",
    "falp = []\n",
    "d = 8 # assume there are only d defectives\n",
    "n = 2048 # the total number of individuals being tested\n",
    "#m = number of tests\n",
    "\n",
    "for m in np.arange(10,n,5):\n",
    "  count = 0\n",
    "  neg = 0 \n",
    "  pos = 0 \n",
    "  for k in np.arange(100):\n",
    "        A, x, y = simulate_input(m, n, d)\n",
    "        xbar = biht(A,y,d)\n",
    "        if (xbar==x).all() == True:\n",
    "            count = count+1\n",
    "        #exa.append(count)\n",
    "  \n",
    "        else: \n",
    "             for i in range(len(xbar)):\n",
    "                if xbar[i] < x[i]:\n",
    "                    neg = neg+1\n",
    "                      #faln.append(neg)\n",
    "                elif xbar[i] > x[i]: \n",
    "                    pos = pos+1\n",
    "                      #falp.append(pos)\n",
    "  exa.append(count/100)\n",
    "  faln.append(neg/100)\n",
    "  falp.append(pos/100)\n",
    "\n",
    "#print(exa)\n",
    "#print(faln)\n",
    "#print(falp)"
   ]
  },
  {
   "cell_type": "code",
   "execution_count": 16,
   "metadata": {
    "collapsed": false
   },
   "outputs": [
    {
     "ename": "NameError",
     "evalue": "name 'exa' is not defined",
     "output_type": "error",
     "traceback": [
      "\u001b[0;31m---------------------------------------------------------------------------\u001b[0m",
      "\u001b[0;31mNameError\u001b[0m                                 Traceback (most recent call last)",
      "\u001b[0;32m<ipython-input-16-1d07f9e85856>\u001b[0m in \u001b[0;36m<module>\u001b[0;34m()\u001b[0m\n\u001b[0;32m----> 1\u001b[0;31m \u001b[0mprint\u001b[0m\u001b[0;34m(\u001b[0m\u001b[0mlen\u001b[0m\u001b[0;34m(\u001b[0m\u001b[0mexa\u001b[0m\u001b[0;34m)\u001b[0m\u001b[0;34m)\u001b[0m\u001b[0;34m\u001b[0m\u001b[0m\n\u001b[0m",
      "\u001b[0;31mNameError\u001b[0m: name 'exa' is not defined"
     ]
    }
   ],
   "source": [
    "print(len(exa))"
   ]
  },
  {
   "cell_type": "code",
   "execution_count": 14,
   "metadata": {
    "collapsed": false
   },
   "outputs": [
    {
     "ename": "NameError",
     "evalue": "name 'faln' is not defined",
     "output_type": "error",
     "traceback": [
      "\u001b[0;31m---------------------------------------------------------------------------\u001b[0m",
      "\u001b[0;31mNameError\u001b[0m                                 Traceback (most recent call last)",
      "\u001b[0;32m<ipython-input-14-4da02f4e7860>\u001b[0m in \u001b[0;36m<module>\u001b[0;34m()\u001b[0m\n\u001b[1;32m      1\u001b[0m \u001b[0mx\u001b[0m \u001b[0;34m=\u001b[0m \u001b[0mnp\u001b[0m\u001b[0;34m.\u001b[0m\u001b[0marange\u001b[0m\u001b[0;34m(\u001b[0m\u001b[0;36m10\u001b[0m\u001b[0;34m,\u001b[0m\u001b[0mn\u001b[0m\u001b[0;34m,\u001b[0m\u001b[0;36m5\u001b[0m\u001b[0;34m)\u001b[0m\u001b[0;34m\u001b[0m\u001b[0m\n\u001b[1;32m      2\u001b[0m \u001b[0;31m# plot of false positive and false negatives\u001b[0m\u001b[0;34m\u001b[0m\u001b[0;34m\u001b[0m\u001b[0m\n\u001b[0;32m----> 3\u001b[0;31m \u001b[0mplt\u001b[0m\u001b[0;34m.\u001b[0m\u001b[0mplot\u001b[0m\u001b[0;34m(\u001b[0m\u001b[0mx\u001b[0m\u001b[0;34m,\u001b[0m\u001b[0mfaln\u001b[0m\u001b[0;34m,\u001b[0m\u001b[0;34m'r'\u001b[0m\u001b[0;34m,\u001b[0m \u001b[0mlabel\u001b[0m \u001b[0;34m=\u001b[0m \u001b[0;34m'False negatives'\u001b[0m\u001b[0;34m)\u001b[0m\u001b[0;34m\u001b[0m\u001b[0m\n\u001b[0m\u001b[1;32m      4\u001b[0m \u001b[0mplt\u001b[0m\u001b[0;34m.\u001b[0m\u001b[0mplot\u001b[0m\u001b[0;34m(\u001b[0m\u001b[0mx\u001b[0m\u001b[0;34m,\u001b[0m\u001b[0mfalp\u001b[0m\u001b[0;34m,\u001b[0m \u001b[0;34m'b'\u001b[0m\u001b[0;34m,\u001b[0m \u001b[0mlabel\u001b[0m \u001b[0;34m=\u001b[0m \u001b[0;34m'False positives'\u001b[0m\u001b[0;34m)\u001b[0m\u001b[0;34m\u001b[0m\u001b[0m\n\u001b[1;32m      5\u001b[0m \u001b[0mplt\u001b[0m\u001b[0;34m.\u001b[0m\u001b[0mxlabel\u001b[0m\u001b[0;34m(\u001b[0m\u001b[0;34m'Number of tests'\u001b[0m\u001b[0;34m)\u001b[0m\u001b[0;34m\u001b[0m\u001b[0m\n",
      "\u001b[0;31mNameError\u001b[0m: name 'faln' is not defined"
     ]
    }
   ],
   "source": [
    "x = np.arange(10,n,5)\n",
    "# plot of false positive and false negatives \n",
    "plt.plot(x,faln,'r', label = 'False negatives')\n",
    "plt.plot(x,falp, 'b', label = 'False positives')\n",
    "plt.xlabel('Number of tests')\n",
    "plt.ylabel('Average number')\n",
    "#plt.title(\"The number of exactly recovered vectors vs different values of m\")\n",
    "plt.legend()\n",
    "plt.show()\n",
    "\n",
    "#  separate plot for the exact recovery \n",
    "plt.plot(x,exa, 'g', label = \"Exact recovery\")\n",
    "plt.xlabel('Number of tests')\n",
    "plt.ylabel('Probability of perfect recovery')\n",
    "plt.legend()\n",
    "plt.show()"
   ]
  },
  {
   "cell_type": "code",
   "execution_count": null,
   "metadata": {
    "collapsed": true
   },
   "outputs": [],
   "source": []
  }
 ],
 "metadata": {
  "kernelspec": {
   "display_name": "Python 3",
   "language": "python",
   "name": "python3"
  },
  "language_info": {
   "codemirror_mode": {
    "name": "ipython",
    "version": 3
   },
   "file_extension": ".py",
   "mimetype": "text/x-python",
   "name": "python",
   "nbconvert_exporter": "python",
   "pygments_lexer": "ipython3",
   "version": "3.5.3"
  }
 },
 "nbformat": 4,
 "nbformat_minor": 2
}
